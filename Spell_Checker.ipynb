{
  "nbformat": 4,
  "nbformat_minor": 0,
  "metadata": {
    "colab": {
      "name": "Internship_spell_checker.ipynb",
      "version": "0.3.2",
      "provenance": []
    },
    "kernelspec": {
      "name": "python3",
      "display_name": "Python 3"
    }
  },
  "cells": [
    {
      "metadata": {
        "id": "OjlOCQa5A6sO",
        "colab_type": "text"
      },
      "cell_type": "markdown",
      "source": [
        "## Internship Spell Checker\n",
        "Name-Rahul Anand<br>\n",
        "PhoneNo-9834842796<br>\n",
        "Email- rahulanand1103@gmail.com<br>"
      ]
    },
    {
      "metadata": {
        "id": "ee7P7xZjHF5j",
        "colab_type": "text"
      },
      "cell_type": "markdown",
      "source": [
        "## Getting the data From GoogleDrive"
      ]
    },
    {
      "metadata": {
        "id": "5xBxr9_kBOcK",
        "colab_type": "code",
        "colab": {}
      },
      "cell_type": "code",
      "source": [
        "!pip install -U -q PyDrive\n",
        "\n",
        "from pydrive.auth import GoogleAuth\n",
        "from pydrive.drive import GoogleDrive\n",
        "from google.colab import auth\n",
        "from oauth2client.client import GoogleCredentials\n",
        "\n",
        "# 1. Authenticate and create the PyDrive client.\n",
        "auth.authenticate_user()\n",
        "gauth = GoogleAuth()\n",
        "gauth.credentials = GoogleCredentials.get_application_default()\n",
        "drive = GoogleDrive(gauth)\n"
      ],
      "execution_count": 0,
      "outputs": []
    },
    {
      "metadata": {
        "id": "20CLSLa2BgXJ",
        "colab_type": "code",
        "colab": {}
      },
      "cell_type": "code",
      "source": [
        "download = drive.CreateFile({'id': '1Xk9-HNEum0Hxztd13oHLkzQmHb3C7uWC'})\n",
        "download.GetContentFile('aliceInWonderland.txt')"
      ],
      "execution_count": 0,
      "outputs": []
    },
    {
      "metadata": {
        "id": "M70fTXz9NdCl",
        "colab_type": "code",
        "colab": {}
      },
      "cell_type": "code",
      "source": [
        "download = drive.CreateFile({'id': '1eFILg31DKYZ4aDzVQVNBasRC69ad0saO'})\n",
        "download.GetContentFile('GoogleNews-vectors-negative300.bin')"
      ],
      "execution_count": 0,
      "outputs": []
    },
    {
      "metadata": {
        "id": "4Ta9odlOxtnX",
        "colab_type": "code",
        "colab": {}
      },
      "cell_type": "code",
      "source": [
        "import pandas as pd\n",
        "from gensim.models import Word2Vec\n",
        "import numpy as np\n",
        "import warnings\n",
        "warnings.filterwarnings('ignore')"
      ],
      "execution_count": 0,
      "outputs": []
    },
    {
      "metadata": {
        "id": "oKRHdyDcGXTt",
        "colab_type": "text"
      },
      "cell_type": "markdown",
      "source": [
        "## 1.Word2vec Approach"
      ]
    },
    {
      "metadata": {
        "id": "x5i2PzYn7lZA",
        "colab_type": "code",
        "colab": {}
      },
      "cell_type": "code",
      "source": [
        "import gensim\n",
        "model = gensim.models.KeyedVectors.load_word2vec_format('GoogleNews-vectors-negative300.bin',binary=True)\n",
        "\n",
        "words = model.index2word\n",
        "\n",
        "w_rank = {}\n",
        "for i,word in enumerate(words):\n",
        "    w_rank[word] = i\n",
        "\n",
        "WORDS = w_rank"
      ],
      "execution_count": 0,
      "outputs": []
    },
    {
      "metadata": {
        "id": "3vo-KhbARZrd",
        "colab_type": "code",
        "colab": {}
      },
      "cell_type": "code",
      "source": [
        "import re\n",
        "from collections import Counter\n",
        "\n",
        "def words(text): return re.findall(r'\\w+', text.lower())\n",
        "\n",
        "def P(word): \n",
        "    \"Probability of `word`.\"\n",
        "    # use inverse of rank as proxy\n",
        "    # returns 0 if the word isn't in the dictionary\n",
        "    return - WORDS.get(word, 0)\n",
        "\n",
        "def correction(word): \n",
        "    \"Most probable spelling correction for word.\"\n",
        "    return max(candidates(word), key=P)\n",
        "\n",
        "def candidates(word): \n",
        "    \"Generate possible spelling corrections for word.\"\n",
        "    return (known([word]) or known(edits1(word)) or known(edits2(word)) or [word])\n",
        "\n",
        "def known(words): \n",
        "    \"The subset of `words` that appear in the dictionary of WORDS.\"\n",
        "    return set(w for w in words if w in WORDS)\n",
        "\n",
        "def edits1(word):\n",
        "    \"All edits that are one edit away from `word`.\"\n",
        "    letters    = 'abcdefghijklmnopqrstuvwxyz'\n",
        "    splits     = [(word[:i], word[i:])    for i in range(len(word) + 1)]\n",
        "    deletes    = [L + R[1:]               for L, R in splits if R]\n",
        "    transposes = [L + R[1] + R[0] + R[2:] for L, R in splits if len(R)>1]\n",
        "    replaces   = [L + c + R[1:]           for L, R in splits if R for c in letters]\n",
        "    inserts    = [L + c + R               for L, R in splits for c in letters]\n",
        "    return set(deletes + transposes + replaces + inserts)\n",
        "\n",
        "def edits2(word): \n",
        "    \"All edits that are two edits away from `word`.\"\n",
        "    return (e2 for e1 in edits1(word) for e2 in edits1(e1))"
      ],
      "execution_count": 0,
      "outputs": []
    },
    {
      "metadata": {
        "id": "0XzFzmyyTitS",
        "colab_type": "code",
        "outputId": "7415be5d-ca26-45b3-81a1-81d434adcada",
        "colab": {
          "base_uri": "https://localhost:8080/",
          "height": 34
        }
      },
      "cell_type": "code",
      "source": [
        "correction('wonderand') "
      ],
      "execution_count": 8,
      "outputs": [
        {
          "output_type": "execute_result",
          "data": {
            "text/plain": [
              "'wonderland'"
            ]
          },
          "metadata": {
            "tags": []
          },
          "execution_count": 8
        }
      ]
    },
    {
      "metadata": {
        "id": "wISsQ1tNpI3v",
        "colab_type": "text"
      },
      "cell_type": "markdown",
      "source": [
        "## Misspelled words\n",
        "\n",
        "### original sentence\n",
        "<i>In another moment down went Alice after it, never once considering how in the world she was to get out again.</i>\n",
        "\n",
        "### sentence after mis spelled words\n",
        "\n",
        "<i>In another <b>momnt</b> <b>doxn went</b> <b>Alie</b> after it, never once <b>considaring</b> how in the world she was to eat to <b>agian</b> </i>\n"
      ]
    },
    {
      "metadata": {
        "id": "tYgrOsUfUKeA",
        "colab_type": "code",
        "colab": {}
      },
      "cell_type": "code",
      "source": [
        "sentence=\"In another momnt doxn went Alie after it, never once considaring how in the world she was to eat to agian\""
      ],
      "execution_count": 0,
      "outputs": []
    },
    {
      "metadata": {
        "id": "UgTJYLPxxe-N",
        "colab_type": "code",
        "colab": {}
      },
      "cell_type": "code",
      "source": [
        "import re\n",
        "listWord = re.sub(r'[.!,;?]',' ',sentence).split()"
      ],
      "execution_count": 0,
      "outputs": []
    },
    {
      "metadata": {
        "id": "ENfAcoqhnb6R",
        "colab_type": "code",
        "colab": {}
      },
      "cell_type": "code",
      "source": [
        "correctSentence=[]\n",
        "for word in listWord:\n",
        "  correctSentence.append(correction(word))\n",
        "  "
      ],
      "execution_count": 0,
      "outputs": []
    },
    {
      "metadata": {
        "id": "IqRhx4TXvYXf",
        "colab_type": "code",
        "colab": {}
      },
      "cell_type": "code",
      "source": [
        "correctSentence=' '.join(correctSentence)"
      ],
      "execution_count": 0,
      "outputs": []
    },
    {
      "metadata": {
        "id": "XSx2huWxv-HL",
        "colab_type": "code",
        "colab": {
          "base_uri": "https://localhost:8080/",
          "height": 34
        },
        "outputId": "65f95575-5c91-4bb2-f1af-4a0256b7f2e6"
      },
      "cell_type": "code",
      "source": [
        "correctSentence"
      ],
      "execution_count": 14,
      "outputs": [
        {
          "output_type": "execute_result",
          "data": {
            "text/plain": [
              "'In another moment down went Alie after it never once considering how in the world she was two eat two agian'"
            ]
          },
          "metadata": {
            "tags": []
          },
          "execution_count": 14
        }
      ]
    },
    {
      "metadata": {
        "id": "RW1HIDSIwrGu",
        "colab_type": "text"
      },
      "cell_type": "markdown",
      "source": [
        "## After using word2vec\n",
        "\n",
        "### original sentence\n",
        "<i>In another <b>moment</b> <b>down</b> went <b>Alice</b> after it, never once <b>considering</b> how in the world she was to get out <b>again</b>.</i>\n",
        "\n",
        "### sentence after mis spelled words\n",
        "\n",
        "<i>In another <b>momnt</b> <b>doxn</b> went <b>Alie</b> after it, never once <b>considaring</b> how in the world she was to get out <b>agian</b> </i>\n",
        "\n",
        "### sentence after using word2vec\n",
        "<i>In another <b>moment</b> <b>down</b> went <b>Alie</b> after it never once <b>considering</b> how in the world she was two eat two <b>agian</b></i>\n"
      ]
    },
    {
      "metadata": {
        "id": "GqwKb2G-wuZ5",
        "colab_type": "code",
        "colab": {}
      },
      "cell_type": "code",
      "source": [
        "originalSentence='In another moment down went Alice after it, never once considering how in the world she was to get out again.'\n",
        "\n",
        "misSpellSentence='In another momnt doxn went Alie after it, never once considaring how in the world she was to eat out agian'\n",
        "\n",
        "correctSentence='In another moment down went Alie after it never once considering how in the world she was to eat out agian'"
      ],
      "execution_count": 0,
      "outputs": []
    },
    {
      "metadata": {
        "id": "yUQdZFIuzdWq",
        "colab_type": "code",
        "colab": {}
      },
      "cell_type": "code",
      "source": [
        "originalWord = re.sub(r'[.!,;?]',' ',originalSentence).split()\n",
        "\n",
        "misSpellWord = re.sub(r'[.!,;?]',' ',misSpellSentence).split()\n",
        "\n",
        "correctWord = re.sub(r'[.!,;?]',' ',correctSentence).split()"
      ],
      "execution_count": 0,
      "outputs": []
    },
    {
      "metadata": {
        "id": "hpX_D_p-z0pH",
        "colab_type": "code",
        "colab": {
          "base_uri": "https://localhost:8080/",
          "height": 68
        },
        "outputId": "f2ca9e87-4491-4283-eb50-eac9a616242e"
      },
      "cell_type": "code",
      "source": [
        "for f, b in zip(originalWord, correctWord):\n",
        "    if(f!=b):\n",
        "      print(model.similarity(f, b))"
      ],
      "execution_count": 17,
      "outputs": [
        {
          "output_type": "stream",
          "text": [
            "0.20982566\n",
            "0.3504621\n",
            "0.3612624\n"
          ],
          "name": "stdout"
        }
      ]
    },
    {
      "metadata": {
        "id": "GBqFbKhz7jQs",
        "colab_type": "code",
        "colab": {}
      },
      "cell_type": "code",
      "source": [
        ""
      ],
      "execution_count": 0,
      "outputs": []
    }
  ]
}