{
 "cells": [
  {
   "cell_type": "markdown",
   "metadata": {
    "colab_type": "text",
    "id": "OjlOCQa5A6sO"
   },
   "source": [
    "## Spell corrector"
   ]
  },
  {
   "cell_type": "markdown",
   "metadata": {
    "colab_type": "text",
    "id": "ee7P7xZjHF5j"
   },
   "source": [
    "## Getting the data From GoogleDrive"
   ]
  },
  {
   "cell_type": "code",
   "execution_count": 0,
   "metadata": {
    "colab": {},
    "colab_type": "code",
    "id": "5xBxr9_kBOcK"
   },
   "outputs": [],
   "source": [
    "!pip install -U -q PyDrive\n",
    "\n",
    "from pydrive.auth import GoogleAuth\n",
    "from pydrive.drive import GoogleDrive\n",
    "from google.colab import auth\n",
    "from oauth2client.client import GoogleCredentials\n",
    "\n",
    "# 1. Authenticate and create the PyDrive client.\n",
    "auth.authenticate_user()\n",
    "gauth = GoogleAuth()\n",
    "gauth.credentials = GoogleCredentials.get_application_default()\n",
    "drive = GoogleDrive(gauth)\n"
   ]
  },
  {
   "cell_type": "code",
   "execution_count": 0,
   "metadata": {
    "colab": {},
    "colab_type": "code",
    "id": "20CLSLa2BgXJ"
   },
   "outputs": [],
   "source": [
    "download = drive.CreateFile({'id': '1Xk9-HNEum0Hxztd13oHLkzQmHb3C7uWC'})\n",
    "download.GetContentFile('aliceInWonderland.txt')"
   ]
  },
  {
   "cell_type": "code",
   "execution_count": 0,
   "metadata": {
    "colab": {},
    "colab_type": "code",
    "id": "M70fTXz9NdCl"
   },
   "outputs": [],
   "source": [
    "download = drive.CreateFile({'id': '1eFILg31DKYZ4aDzVQVNBasRC69ad0saO'})\n",
    "download.GetContentFile('GoogleNews-vectors-negative300.bin')"
   ]
  },
  {
   "cell_type": "code",
   "execution_count": 0,
   "metadata": {
    "colab": {},
    "colab_type": "code",
    "id": "4Ta9odlOxtnX"
   },
   "outputs": [],
   "source": [
    "import pandas as pd\n",
    "from gensim.models import Word2Vec\n",
    "import numpy as np\n",
    "import warnings\n",
    "warnings.filterwarnings('ignore')"
   ]
  },
  {
   "cell_type": "markdown",
   "metadata": {
    "colab_type": "text",
    "id": "oKRHdyDcGXTt"
   },
   "source": [
    "## 1.Word2vec Approach"
   ]
  },
  {
   "cell_type": "code",
   "execution_count": 0,
   "metadata": {
    "colab": {},
    "colab_type": "code",
    "id": "x5i2PzYn7lZA"
   },
   "outputs": [],
   "source": [
    "import gensim\n",
    "model = gensim.models.KeyedVectors.load_word2vec_format('GoogleNews-vectors-negative300.bin',binary=True)\n",
    "\n",
    "words = model.index2word\n",
    "\n",
    "w_rank = {}\n",
    "for i,word in enumerate(words):\n",
    "    w_rank[word] = i\n",
    "\n",
    "WORDS = w_rank"
   ]
  },
  {
   "cell_type": "code",
   "execution_count": 0,
   "metadata": {
    "colab": {},
    "colab_type": "code",
    "id": "3vo-KhbARZrd"
   },
   "outputs": [],
   "source": [
    "import re\n",
    "from collections import Counter\n",
    "\n",
    "def words(text): return re.findall(r'\\w+', text.lower())\n",
    "\n",
    "def P(word): \n",
    "    \"Probability of `word`.\"\n",
    "    # use inverse of rank as proxy\n",
    "    # returns 0 if the word isn't in the dictionary\n",
    "    return - WORDS.get(word, 0)\n",
    "\n",
    "def correction(word): \n",
    "    \"Most probable spelling correction for word.\"\n",
    "    return max(candidates(word), key=P)\n",
    "\n",
    "def candidates(word): \n",
    "    \"Generate possible spelling corrections for word.\"\n",
    "    return (known([word]) or known(edits1(word)) or known(edits2(word)) or [word])\n",
    "\n",
    "def known(words): \n",
    "    \"The subset of `words` that appear in the dictionary of WORDS.\"\n",
    "    return set(w for w in words if w in WORDS)\n",
    "\n",
    "def edits1(word):\n",
    "    \"All edits that are one edit away from `word`.\"\n",
    "    letters    = 'abcdefghijklmnopqrstuvwxyz'\n",
    "    splits     = [(word[:i], word[i:])    for i in range(len(word) + 1)]\n",
    "    deletes    = [L + R[1:]               for L, R in splits if R]\n",
    "    transposes = [L + R[1] + R[0] + R[2:] for L, R in splits if len(R)>1]\n",
    "    replaces   = [L + c + R[1:]           for L, R in splits if R for c in letters]\n",
    "    inserts    = [L + c + R               for L, R in splits for c in letters]\n",
    "    return set(deletes + transposes + replaces + inserts)\n",
    "\n",
    "def edits2(word): \n",
    "    \"All edits that are two edits away from `word`.\"\n",
    "    return (e2 for e1 in edits1(word) for e2 in edits1(e1))"
   ]
  },
  {
   "cell_type": "code",
   "execution_count": 8,
   "metadata": {
    "colab": {
     "base_uri": "https://localhost:8080/",
     "height": 34
    },
    "colab_type": "code",
    "id": "0XzFzmyyTitS",
    "outputId": "7415be5d-ca26-45b3-81a1-81d434adcada"
   },
   "outputs": [
    {
     "data": {
      "text/plain": [
       "'wonderland'"
      ]
     },
     "execution_count": 8,
     "metadata": {
      "tags": []
     },
     "output_type": "execute_result"
    }
   ],
   "source": [
    "correction('wonderand') "
   ]
  },
  {
   "cell_type": "markdown",
   "metadata": {
    "colab_type": "text",
    "id": "wISsQ1tNpI3v"
   },
   "source": [
    "## Misspelled words\n",
    "\n",
    "### original sentence\n",
    "<i>In another moment down went Alice after it, never once considering how in the world she was to get out again.</i>\n",
    "\n",
    "### sentence after mis spelled words\n",
    "\n",
    "<i>In another <b>momnt</b> <b>doxn went</b> <b>Alie</b> after it, never once <b>considaring</b> how in the world she was to eat to <b>agian</b> </i>\n"
   ]
  },
  {
   "cell_type": "code",
   "execution_count": 0,
   "metadata": {
    "colab": {},
    "colab_type": "code",
    "id": "tYgrOsUfUKeA"
   },
   "outputs": [],
   "source": [
    "sentence=\"In another momnt doxn went Alie after it, never once considaring how in the world she was to eat to agian\""
   ]
  },
  {
   "cell_type": "code",
   "execution_count": 0,
   "metadata": {
    "colab": {},
    "colab_type": "code",
    "id": "UgTJYLPxxe-N"
   },
   "outputs": [],
   "source": [
    "import re\n",
    "listWord = re.sub(r'[.!,;?]',' ',sentence).split()"
   ]
  },
  {
   "cell_type": "code",
   "execution_count": 0,
   "metadata": {
    "colab": {},
    "colab_type": "code",
    "id": "ENfAcoqhnb6R"
   },
   "outputs": [],
   "source": [
    "correctSentence=[]\n",
    "for word in listWord:\n",
    "  correctSentence.append(correction(word))\n",
    "  "
   ]
  },
  {
   "cell_type": "code",
   "execution_count": 0,
   "metadata": {
    "colab": {},
    "colab_type": "code",
    "id": "IqRhx4TXvYXf"
   },
   "outputs": [],
   "source": [
    "correctSentence=' '.join(correctSentence)"
   ]
  },
  {
   "cell_type": "code",
   "execution_count": 14,
   "metadata": {
    "colab": {
     "base_uri": "https://localhost:8080/",
     "height": 34
    },
    "colab_type": "code",
    "id": "XSx2huWxv-HL",
    "outputId": "65f95575-5c91-4bb2-f1af-4a0256b7f2e6"
   },
   "outputs": [
    {
     "data": {
      "text/plain": [
       "'In another moment down went Alie after it never once considering how in the world she was two eat two agian'"
      ]
     },
     "execution_count": 14,
     "metadata": {
      "tags": []
     },
     "output_type": "execute_result"
    }
   ],
   "source": [
    "correctSentence"
   ]
  },
  {
   "cell_type": "markdown",
   "metadata": {
    "colab_type": "text",
    "id": "RW1HIDSIwrGu"
   },
   "source": [
    "## After using word2vec\n",
    "\n",
    "### original sentence\n",
    "<i>In another <b>moment</b> <b>down</b> went <b>Alice</b> after it, never once <b>considering</b> how in the world she was to get out <b>again</b>.</i>\n",
    "\n",
    "### sentence after mis spelled words\n",
    "\n",
    "<i>In another <b>momnt</b> <b>doxn</b> went <b>Alie</b> after it, never once <b>considaring</b> how in the world she was to get out <b>agian</b> </i>\n",
    "\n",
    "### sentence after using word2vec\n",
    "<i>In another <b>moment</b> <b>down</b> went <b>Alie</b> after it never once <b>considering</b> how in the world she was two eat two <b>agian</b></i>\n"
   ]
  },
  {
   "cell_type": "code",
   "execution_count": 0,
   "metadata": {
    "colab": {},
    "colab_type": "code",
    "id": "GqwKb2G-wuZ5"
   },
   "outputs": [],
   "source": [
    "originalSentence='In another moment down went Alice after it, never once considering how in the world she was to get out again.'\n",
    "\n",
    "misSpellSentence='In another momnt doxn went Alie after it, never once considaring how in the world she was to eat out agian'\n",
    "\n",
    "correctSentence='In another moment down went Alie after it never once considering how in the world she was to eat out agian'"
   ]
  },
  {
   "cell_type": "code",
   "execution_count": 0,
   "metadata": {
    "colab": {},
    "colab_type": "code",
    "id": "yUQdZFIuzdWq"
   },
   "outputs": [],
   "source": [
    "originalWord = re.sub(r'[.!,;?]',' ',originalSentence).split()\n",
    "\n",
    "misSpellWord = re.sub(r'[.!,;?]',' ',misSpellSentence).split()\n",
    "\n",
    "correctWord = re.sub(r'[.!,;?]',' ',correctSentence).split()"
   ]
  },
  {
   "cell_type": "code",
   "execution_count": 17,
   "metadata": {
    "colab": {
     "base_uri": "https://localhost:8080/",
     "height": 68
    },
    "colab_type": "code",
    "id": "hpX_D_p-z0pH",
    "outputId": "f2ca9e87-4491-4283-eb50-eac9a616242e"
   },
   "outputs": [
    {
     "name": "stdout",
     "output_type": "stream",
     "text": [
      "0.20982566\n",
      "0.3504621\n",
      "0.3612624\n"
     ]
    }
   ],
   "source": [
    "for f, b in zip(originalWord, correctWord):\n",
    "    if(f!=b):\n",
    "      print(model.similarity(f, b))"
   ]
  },
  {
   "cell_type": "code",
   "execution_count": 0,
   "metadata": {
    "colab": {},
    "colab_type": "code",
    "id": "GBqFbKhz7jQs"
   },
   "outputs": [],
   "source": []
  }
 ],
 "metadata": {
  "colab": {
   "name": "Internship_spell_checker.ipynb",
   "provenance": [],
   "version": "0.3.2"
  },
  "kernelspec": {
   "display_name": "Python 3",
   "language": "python",
   "name": "python3"
  },
  "language_info": {
   "codemirror_mode": {
    "name": "ipython",
    "version": 3
   },
   "file_extension": ".py",
   "mimetype": "text/x-python",
   "name": "python",
   "nbconvert_exporter": "python",
   "pygments_lexer": "ipython3",
   "version": "3.6.7"
  }
 },
 "nbformat": 4,
 "nbformat_minor": 1
}
